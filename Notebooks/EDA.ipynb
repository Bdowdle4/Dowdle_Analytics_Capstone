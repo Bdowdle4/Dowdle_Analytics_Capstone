{
 "cells": [
  {
   "cell_type": "markdown",
   "id": "da5eeb78",
   "metadata": {},
   "source": [
    "# Predicting Procurement Compliance Using KPI-Driven Machine Learning Models\n",
    "\n",
    "**Author:** Brittany Dowdle\n",
    "\n",
    "**Date:** 7/13/2025\n",
    "\n",
    "**Objective:** This notebook is part of the overall [capstone project](https://github.com/Bdowdle4/Dowdle_Analytics_Capstone). The ultimate goal is to identify patterns and predictors of non-compliant suppliers using machine learning techniques.\n",
    "\n",
    "## Introduction\n",
    "This project uses the [Procurement KPI Analysis Dataset](https://www.kaggle.com/datasets/shahriarkabir/procurement-kpi-analysis-dataset) to predict compliance of suppliers. The dataset includes purchase order records from 5 different suppliers from 2022-2023. This notebook will be used to discover patterns, spot anomalies, test a hypothesis, and check assumptions to ensure the model will produce valid results.  \n",
    "\n",
    "****\n",
    "\n",
    "### Imports\n",
    "In the code cell below are the necessary Python libraries for this notebook. *All imports should be at the top of the notebook.*"
   ]
  },
  {
   "cell_type": "code",
   "execution_count": 1,
   "id": "9930c705",
   "metadata": {},
   "outputs": [],
   "source": [
    "import pandas as pd\n",
    "import seaborn as sns\n",
    "import matplotlib.pyplot as plt"
   ]
  },
  {
   "cell_type": "markdown",
   "id": "9b097559",
   "metadata": {},
   "source": [
    "****\n",
    "### 1. Load the Cleaned Dataset"
   ]
  },
  {
   "cell_type": "code",
   "execution_count": 3,
   "id": "bdfd538d",
   "metadata": {},
   "outputs": [
    {
     "name": "stdout",
     "output_type": "stream",
     "text": [
      "      po_id         supplier  order_date delivery_date    item_category  \\\n",
      "0  PO-00001        Alpha_Inc  2023-10-17    2023-10-25  Office Supplies   \n",
      "1  PO-00002  Delta_Logistics  2022-04-25    2022-05-05  Office Supplies   \n",
      "2  PO-00003         Gamma_Co  2022-01-26    2022-02-15              MRO   \n",
      "3  PO-00004    Beta_Supplies  2022-10-09    2022-10-28        Packaging   \n",
      "4  PO-00005  Delta_Logistics  2022-09-08    2022-09-20    Raw Materials   \n",
      "\n",
      "  order_status  quantity  unit_price  negotiated_price  defective_units  \\\n",
      "0    Cancelled      1176       20.13             17.81              0.0   \n",
      "1    Delivered      1509       39.32             37.34            235.0   \n",
      "2    Delivered       910       95.51             92.26             41.0   \n",
      "3    Delivered      1344       99.85             95.52            112.0   \n",
      "4    Delivered      1180       64.07             60.53            171.0   \n",
      "\n",
      "  compliance  lead_time_days  delivery_date_missing_flag  price_diff  \\\n",
      "0        Yes             8.0                           0        2.32   \n",
      "1        Yes            10.0                           0        1.98   \n",
      "2        Yes            20.0                           0        3.25   \n",
      "3        Yes            19.0                           0        4.33   \n",
      "4         No            12.0                           0        3.54   \n",
      "\n",
      "   defect_rate  quantity_outlier  unit_price_outlier  price_diff_outlier  \\\n",
      "0     0.000000             False               False               False   \n",
      "1     0.155732             False               False               False   \n",
      "2     0.045055             False               False               False   \n",
      "3     0.083333             False               False               False   \n",
      "4     0.144915             False               False               False   \n",
      "\n",
      "   defect_rate_outlier  any_outlier  \n",
      "0                False        False  \n",
      "1                False        False  \n",
      "2                False        False  \n",
      "3                False        False  \n",
      "4                False        False  \n"
     ]
    }
   ],
   "source": [
    "# Load the dataset\n",
    "df = pd.read_csv(\"C:/Users/Britt/Documents/44688/Dowdle_Analytics_Capstone/Data/cleaned_procurement_data.csv\")\n",
    "\n",
    "# Show the first few rows\n",
    "print(df.head())"
   ]
  },
  {
   "cell_type": "markdown",
   "id": "527aa942",
   "metadata": {},
   "source": [
    "### 2. Trend Line Charts"
   ]
  }
 ],
 "metadata": {
  "kernelspec": {
   "display_name": ".venv",
   "language": "python",
   "name": "python3"
  },
  "language_info": {
   "codemirror_mode": {
    "name": "ipython",
    "version": 3
   },
   "file_extension": ".py",
   "mimetype": "text/x-python",
   "name": "python",
   "nbconvert_exporter": "python",
   "pygments_lexer": "ipython3",
   "version": "3.12.9"
  }
 },
 "nbformat": 4,
 "nbformat_minor": 5
}
