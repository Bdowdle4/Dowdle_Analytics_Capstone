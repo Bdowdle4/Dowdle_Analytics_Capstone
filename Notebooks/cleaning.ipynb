{
 "cells": [
  {
   "cell_type": "markdown",
   "id": "0645e5cc",
   "metadata": {},
   "source": [
    "# Predicting Procurement Compliance Using KPI-Driven Machine Learning Models\n",
    "\n",
    "**Author:** Brittany Dowdle\n",
    "**Date:** 7/4/2025\n",
    "**Objective:** This notebook is part of the overall [capstone project](https://github.com/Bdowdle4/Dowdle_Analytics_Capstone). The ultimate goal is to identify patterns and predictors of supplier non-compliance using machine learning techniques.\n",
    "\n",
    "## Introduction\n",
    "This project uses the [Procurement KPI Analysis Dataset](https://www.kaggle.com/datasets/shahriarkabir/procurement-kpi-analysis-dataset) to predict compliance of suppliers. The dataset includes purchase order records with key procurement attributes. To ensure data quality and model readiness, this notebook will clean and preprocess the dataset to prepare for exporatory analysis and predictive modeling. "
   ]
  }
 ],
 "metadata": {
  "kernelspec": {
   "display_name": ".venv",
   "language": "python",
   "name": "python3"
  },
  "language_info": {
   "name": "python",
   "version": "3.12.9"
  }
 },
 "nbformat": 4,
 "nbformat_minor": 5
}
