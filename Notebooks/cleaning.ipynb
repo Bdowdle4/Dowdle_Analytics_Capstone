{
 "cells": [
  {
   "cell_type": "markdown",
   "id": "0645e5cc",
   "metadata": {},
   "source": [
    "# Predicting Procurement Compliance Using KPI-Driven Machine Learning Models\n",
    "\n",
    "**Author:** Brittany Dowdle\n",
    "**Date:** 7/4/2025\n",
    "**Objective:** This notebook is part of the overall [capstone project](https://github.com/Bdowdle4/Dowdle_Analytics_Capstone). The ultimate goal is to identify patterns and predictors of supplier non-compliance using machine learning techniques.\n",
    "\n",
    "## Introduction\n",
    "This project uses the [Procurement KPI Analysis Dataset](https://www.kaggle.com/datasets/shahriarkabir/procurement-kpi-analysis-dataset) to predict compliance of suppliers. The dataset includes purchase order records with key procurement attributes. To ensure data quality and model readiness, this notebook will clean and preprocess the dataset to prepare for exporatory analysis and predictive modeling. \n",
    "\n",
    "****\n",
    "\n",
    "### Imports\n",
    "In the code cell below are the necessary Python libraries for this notebook. *All imports should be at the top of the notebook.*"
   ]
  },
  {
   "cell_type": "code",
   "execution_count": 21,
   "id": "9d652ae8",
   "metadata": {},
   "outputs": [],
   "source": [
    "import pandas as pd\n",
    "import numpy as np"
   ]
  },
  {
   "cell_type": "markdown",
   "id": "21ad8cfd",
   "metadata": {},
   "source": [
    "### Load and Inspect the Data"
   ]
  },
  {
   "cell_type": "code",
   "execution_count": 22,
   "id": "3cfef12b",
   "metadata": {},
   "outputs": [
    {
     "name": "stdout",
     "output_type": "stream",
     "text": [
      "Dataset Info:\n",
      "<class 'pandas.core.frame.DataFrame'>\n",
      "RangeIndex: 777 entries, 0 to 776\n",
      "Data columns (total 11 columns):\n",
      " #   Column            Non-Null Count  Dtype  \n",
      "---  ------            --------------  -----  \n",
      " 0   PO_ID             777 non-null    object \n",
      " 1   Supplier          777 non-null    object \n",
      " 2   Order_Date        777 non-null    object \n",
      " 3   Delivery_Date     690 non-null    object \n",
      " 4   Item_Category     777 non-null    object \n",
      " 5   Order_Status      777 non-null    object \n",
      " 6   Quantity          777 non-null    int64  \n",
      " 7   Unit_Price        777 non-null    float64\n",
      " 8   Negotiated_Price  777 non-null    float64\n",
      " 9   Defective_Units   641 non-null    float64\n",
      " 10  Compliance        777 non-null    object \n",
      "dtypes: float64(3), int64(1), object(7)\n",
      "memory usage: 66.9+ KB\n",
      "None \n",
      "\n",
      "Dataset Description:\n",
      "          Quantity  Unit_Price  Negotiated_Price  Defective_Units\n",
      "count   777.000000  777.000000        777.000000       641.000000\n",
      "mean   1094.660232   58.283822         53.660721        74.803432\n",
      "std     647.844551   28.101315         26.094930        69.187870\n",
      "min      51.000000   10.840000          9.270000         0.000000\n",
      "25%     615.000000   33.290000         30.460000        26.000000\n",
      "50%    1075.000000   58.950000         53.800000        49.000000\n",
      "75%    1548.000000   83.130000         76.550000       100.000000\n",
      "max    5000.000000  109.170000        107.390000       321.000000 \n",
      "\n",
      "First Few Rows:\n",
      "      PO_ID         Supplier  Order_Date Delivery_Date    Item_Category  \\\n",
      "0  PO-00001        Alpha_Inc  2023-10-17    2023-10-25  Office Supplies   \n",
      "1  PO-00002  Delta_Logistics  2022-04-25    2022-05-05  Office Supplies   \n",
      "2  PO-00003         Gamma_Co  2022-01-26    2022-02-15              MRO   \n",
      "3  PO-00004    Beta_Supplies  2022-10-09    2022-10-28        Packaging   \n",
      "4  PO-00005  Delta_Logistics  2022-09-08    2022-09-20    Raw Materials   \n",
      "\n",
      "  Order_Status  Quantity  Unit_Price  Negotiated_Price  Defective_Units  \\\n",
      "0    Cancelled      1176       20.13             17.81              NaN   \n",
      "1    Delivered      1509       39.32             37.34            235.0   \n",
      "2    Delivered       910       95.51             92.26             41.0   \n",
      "3    Delivered      1344       99.85             95.52            112.0   \n",
      "4    Delivered      1180       64.07             60.53            171.0   \n",
      "\n",
      "  Compliance  \n",
      "0        Yes  \n",
      "1        Yes  \n",
      "2        Yes  \n",
      "3        Yes  \n",
      "4         No   \n",
      "\n"
     ]
    }
   ],
   "source": [
    "# Load the dataset\n",
    "df = pd.read_csv(\"C:/Users/Britt/Documents/44688/Procurement KPI Analysis Dataset.csv\")\n",
    "\n",
    "# Preview the structure and details\n",
    "print(\"Dataset Info:\")\n",
    "print(df.info(), '\\n')\n",
    "\n",
    "print(\"Dataset Description:\")\n",
    "print(df.describe(), '\\n')\n",
    "\n",
    "print(\"First Few Rows:\")\n",
    "print(df.head(), '\\n')"
   ]
  },
  {
   "cell_type": "markdown",
   "id": "a9b9765c",
   "metadata": {},
   "source": [
    "### Standardize Column Names"
   ]
  },
  {
   "cell_type": "code",
   "execution_count": 23,
   "id": "e2d067df",
   "metadata": {},
   "outputs": [
    {
     "name": "stdout",
     "output_type": "stream",
     "text": [
      "Index(['po_id', 'supplier', 'order_date', 'delivery_date', 'item_category',\n",
      "       'order_status', 'quantity', 'unit_price', 'negotiated_price',\n",
      "       'defective_units', 'compliance'],\n",
      "      dtype='object')\n"
     ]
    }
   ],
   "source": [
    "# Convert all column names to lowercase and remove white space\n",
    "df.columns = df.columns.str.strip().str.lower()\n",
    "\n",
    "# View column names\n",
    "print(df.columns)\n"
   ]
  },
  {
   "cell_type": "markdown",
   "id": "af4a8c43",
   "metadata": {},
   "source": [
    "### Convert Dates to Datetime Format"
   ]
  },
  {
   "cell_type": "code",
   "execution_count": 24,
   "id": "a041b396",
   "metadata": {},
   "outputs": [
    {
     "name": "stdout",
     "output_type": "stream",
     "text": [
      "<class 'pandas.core.frame.DataFrame'>\n",
      "RangeIndex: 777 entries, 0 to 776\n",
      "Data columns (total 11 columns):\n",
      " #   Column            Non-Null Count  Dtype         \n",
      "---  ------            --------------  -----         \n",
      " 0   po_id             777 non-null    object        \n",
      " 1   supplier          777 non-null    object        \n",
      " 2   order_date        777 non-null    datetime64[ns]\n",
      " 3   delivery_date     690 non-null    datetime64[ns]\n",
      " 4   item_category     777 non-null    object        \n",
      " 5   order_status      777 non-null    object        \n",
      " 6   quantity          777 non-null    int64         \n",
      " 7   unit_price        777 non-null    float64       \n",
      " 8   negotiated_price  777 non-null    float64       \n",
      " 9   defective_units   641 non-null    float64       \n",
      " 10  compliance        777 non-null    object        \n",
      "dtypes: datetime64[ns](2), float64(3), int64(1), object(5)\n",
      "memory usage: 66.9+ KB\n",
      "None\n"
     ]
    }
   ],
   "source": [
    "# Parse date fields\n",
    "df['order_date'] = pd.to_datetime(df['order_date'], errors='coerce')\n",
    "df['delivery_date'] = pd.to_datetime(df['delivery_date'], errors='coerce')\n",
    "print(df.info())"
   ]
  }
 ],
 "metadata": {
  "kernelspec": {
   "display_name": ".venv",
   "language": "python",
   "name": "python3"
  },
  "language_info": {
   "codemirror_mode": {
    "name": "ipython",
    "version": 3
   },
   "file_extension": ".py",
   "mimetype": "text/x-python",
   "name": "python",
   "nbconvert_exporter": "python",
   "pygments_lexer": "ipython3",
   "version": "3.12.9"
  }
 },
 "nbformat": 4,
 "nbformat_minor": 5
}
