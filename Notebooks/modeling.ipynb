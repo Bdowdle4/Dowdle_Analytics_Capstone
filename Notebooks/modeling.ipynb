{
 "cells": [
  {
   "cell_type": "markdown",
   "id": "bfcdc9ad",
   "metadata": {},
   "source": [
    "# Predicting Procurement Compliance Using KPI-Driven Machine Learning Models\n",
    "**Author:** Brittany Dowdle\n",
    "\n",
    "**Date:** 7/21/2025\n",
    "\n",
    "**Objective:** This notebook is part of the overall capstone project. The ultimate goal is to identify patterns and predictors of non-compliant suppliers using machine learning techniques.\n",
    "\n",
    "### Introduction\n",
    "This project uses the [Procurement KPI Analysis Dataset](https://www.kaggle.com/datasets/shahriarkabir/procurement-kpi-analysis-dataset) to predict compliance of suppliers. The dataset includes purchase order records from 5 different suppliers from 2022-2023. Using the cleaned data set prepared in [cleaning.ipynb](https://github.com/Bdowdle4/Dowdle_Analytics_Capstone/blob/main/Notebooks/cleaning.ipynb) and explored in [EDA.ipynb](https://github.com/Bdowdle4/Dowdle_Analytics_Capstone/blob/main/Notebooks/EDA.ipynb), this notebook focuses on building and evaluating the machine learning model. \n",
    "\n",
    "****\n",
    "### Imports\n",
    "In the code cell below are the necessary Python libraries for this notebook. *All imports should be at the top of the notebook.*"
   ]
  },
  {
   "cell_type": "code",
   "execution_count": 5,
   "id": "f3ff89df",
   "metadata": {},
   "outputs": [],
   "source": [
    "import pandas as pd\n",
    "import numpy as np\n",
    "import matplotlib.pyplot as plt\n",
    "import seaborn as sns\n",
    "from sklearn.model_selection import StratifiedShuffleSplit, GridSearchCV\n",
    "from sklearn.ensemble import RandomForestClassifier\n",
    "from sklearn.metrics import classification_report, confusion_matrix, roc_auc_score, roc_curve"
   ]
  },
  {
   "cell_type": "markdown",
   "id": "d46d827c",
   "metadata": {},
   "source": [
    "****\n",
    "### 1. Load the Cleaned Dataset"
   ]
  },
  {
   "cell_type": "markdown",
   "id": "cbdd78c4",
   "metadata": {},
   "source": [
    "### 2. Define Features and Targets"
   ]
  },
  {
   "cell_type": "markdown",
   "id": "62812186",
   "metadata": {},
   "source": [
    "### 3. Split the Dataset"
   ]
  },
  {
   "cell_type": "markdown",
   "id": "86587a7e",
   "metadata": {},
   "source": [
    "### 4. Train a Logistic Regression Model"
   ]
  },
  {
   "cell_type": "markdown",
   "id": "a6c72de8",
   "metadata": {},
   "source": [
    "### 5. Train a Random Forest Model"
   ]
  },
  {
   "cell_type": "markdown",
   "id": "46279387",
   "metadata": {},
   "source": [
    "### 6. Evaluate the Models"
   ]
  },
  {
   "cell_type": "markdown",
   "id": "f247209a",
   "metadata": {},
   "source": [
    "### 7. Visualize the Confusion Matrix"
   ]
  },
  {
   "cell_type": "markdown",
   "id": "490c722f",
   "metadata": {},
   "source": [
    "### 8. Plot the ROC Curve"
   ]
  },
  {
   "cell_type": "markdown",
   "id": "c97547c2",
   "metadata": {},
   "source": [
    "### 9. Show Feature Importance"
   ]
  },
  {
   "cell_type": "markdown",
   "id": "1cedbfb6",
   "metadata": {},
   "source": [
    "****\n",
    "### Conclusion"
   ]
  }
 ],
 "metadata": {
  "kernelspec": {
   "display_name": ".venv",
   "language": "python",
   "name": "python3"
  },
  "language_info": {
   "codemirror_mode": {
    "name": "ipython",
    "version": 3
   },
   "file_extension": ".py",
   "mimetype": "text/x-python",
   "name": "python",
   "nbconvert_exporter": "python",
   "pygments_lexer": "ipython3",
   "version": "3.12.9"
  }
 },
 "nbformat": 4,
 "nbformat_minor": 5
}
